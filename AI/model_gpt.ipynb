{
  "cells": [
    {
      "cell_type": "code",
      "execution_count": 1,
      "metadata": {
        "colab": {
          "base_uri": "https://localhost:8080/"
        },
        "id": "afRVr2jD8iKc",
        "outputId": "9b71799b-9357-47cd-d483-2be5a0210828"
      },
      "outputs": [
        {
          "name": "stdout",
          "output_type": "stream",
          "text": [
            "Collecting openai\n",
            "  Downloading openai-1.43.0-py3-none-any.whl.metadata (22 kB)\n",
            "Requirement already satisfied: anyio<5,>=3.5.0 in /usr/local/lib/python3.10/dist-packages (from openai) (3.7.1)\n",
            "Requirement already satisfied: distro<2,>=1.7.0 in /usr/lib/python3/dist-packages (from openai) (1.7.0)\n",
            "Collecting httpx<1,>=0.23.0 (from openai)\n",
            "  Downloading httpx-0.27.2-py3-none-any.whl.metadata (7.1 kB)\n",
            "Collecting jiter<1,>=0.4.0 (from openai)\n",
            "  Downloading jiter-0.5.0-cp310-cp310-manylinux_2_17_x86_64.manylinux2014_x86_64.whl.metadata (3.6 kB)\n",
            "Requirement already satisfied: pydantic<3,>=1.9.0 in /usr/local/lib/python3.10/dist-packages (from openai) (2.8.2)\n",
            "Requirement already satisfied: sniffio in /usr/local/lib/python3.10/dist-packages (from openai) (1.3.1)\n",
            "Requirement already satisfied: tqdm>4 in /usr/local/lib/python3.10/dist-packages (from openai) (4.66.5)\n",
            "Requirement already satisfied: typing-extensions<5,>=4.11 in /usr/local/lib/python3.10/dist-packages (from openai) (4.12.2)\n",
            "Requirement already satisfied: idna>=2.8 in /usr/local/lib/python3.10/dist-packages (from anyio<5,>=3.5.0->openai) (3.8)\n",
            "Requirement already satisfied: exceptiongroup in /usr/local/lib/python3.10/dist-packages (from anyio<5,>=3.5.0->openai) (1.2.2)\n",
            "Requirement already satisfied: certifi in /usr/local/lib/python3.10/dist-packages (from httpx<1,>=0.23.0->openai) (2024.7.4)\n",
            "Collecting httpcore==1.* (from httpx<1,>=0.23.0->openai)\n",
            "  Downloading httpcore-1.0.5-py3-none-any.whl.metadata (20 kB)\n",
            "Collecting h11<0.15,>=0.13 (from httpcore==1.*->httpx<1,>=0.23.0->openai)\n",
            "  Downloading h11-0.14.0-py3-none-any.whl.metadata (8.2 kB)\n",
            "Requirement already satisfied: annotated-types>=0.4.0 in /usr/local/lib/python3.10/dist-packages (from pydantic<3,>=1.9.0->openai) (0.7.0)\n",
            "Requirement already satisfied: pydantic-core==2.20.1 in /usr/local/lib/python3.10/dist-packages (from pydantic<3,>=1.9.0->openai) (2.20.1)\n",
            "Downloading openai-1.43.0-py3-none-any.whl (365 kB)\n",
            "\u001b[2K   \u001b[90m━━━━━━━━━━━━━━━━━━━━━━━━━━━━━━━━━━━━━━━━\u001b[0m \u001b[32m365.7/365.7 kB\u001b[0m \u001b[31m12.6 MB/s\u001b[0m eta \u001b[36m0:00:00\u001b[0m\n",
            "\u001b[?25hDownloading httpx-0.27.2-py3-none-any.whl (76 kB)\n",
            "\u001b[2K   \u001b[90m━━━━━━━━━━━━━━━━━━━━━━━━━━━━━━━━━━━━━━━━\u001b[0m \u001b[32m76.4/76.4 kB\u001b[0m \u001b[31m6.8 MB/s\u001b[0m eta \u001b[36m0:00:00\u001b[0m\n",
            "\u001b[?25hDownloading httpcore-1.0.5-py3-none-any.whl (77 kB)\n",
            "\u001b[2K   \u001b[90m━━━━━━━━━━━━━━━━━━━━━━━━━━━━━━━━━━━━━━━━\u001b[0m \u001b[32m77.9/77.9 kB\u001b[0m \u001b[31m7.1 MB/s\u001b[0m eta \u001b[36m0:00:00\u001b[0m\n",
            "\u001b[?25hDownloading jiter-0.5.0-cp310-cp310-manylinux_2_17_x86_64.manylinux2014_x86_64.whl (318 kB)\n",
            "\u001b[2K   \u001b[90m━━━━━━━━━━━━━━━━━━━━━━━━━━━━━━━━━━━━━━━━\u001b[0m \u001b[32m318.9/318.9 kB\u001b[0m \u001b[31m24.8 MB/s\u001b[0m eta \u001b[36m0:00:00\u001b[0m\n",
            "\u001b[?25hDownloading h11-0.14.0-py3-none-any.whl (58 kB)\n",
            "\u001b[2K   \u001b[90m━━━━━━━━━━━━━━━━━━━━━━━━━━━━━━━━━━━━━━━━\u001b[0m \u001b[32m58.3/58.3 kB\u001b[0m \u001b[31m5.2 MB/s\u001b[0m eta \u001b[36m0:00:00\u001b[0m\n",
            "\u001b[?25hInstalling collected packages: jiter, h11, httpcore, httpx, openai\n",
            "Successfully installed h11-0.14.0 httpcore-1.0.5 httpx-0.27.2 jiter-0.5.0 openai-1.43.0\n"
          ]
        }
      ],
      "source": [
        "pip install openai"
      ]
    },
    {
      "cell_type": "markdown",
      "metadata": {
        "id": "lmDWH_kG82II"
      },
      "source": [
        "All API requests should include your API key in an Authorization HTTP header as follows:\n",
        "\n",
        "```\n",
        "Authorization: Bearer OPENAI_API_KEY\n",
        "```\n",
        "\n"
      ]
    },
    {
      "cell_type": "code",
      "execution_count": 2,
      "metadata": {
        "id": "Y6jx_yDQ8pyk"
      },
      "outputs": [],
      "source": [
        "OPENAI_API_KEY = ###"
      ]
    },
    {
      "cell_type": "code",
      "execution_count": 6,
      "metadata": {
        "id": "thSfh1HOB89z"
      },
      "outputs": [],
      "source": [
        "import base64\n",
        "import requests\n",
        "import numpy as np\n",
        "from skimage import img_as_ubyte, io\n",
        "from PIL import Image\n",
        "import io as io_module  # 메모리 버퍼를 위한 io 모듈\n",
        "\n",
        "# 이미지를 base64로 인코딩하는 함수\n",
        "def encode_image(image_path):\n",
        "    with open(image_path, \"rb\") as image_file:\n",
        "        return base64.b64encode(image_file.read()).decode('utf-8')\n",
        "\n",
        "# white_patch 함수 정의 (화이트 밸런싱)\n",
        "def white_patch(image, percentile=100):\n",
        "    \"\"\"\n",
        "    Parameters\n",
        "    ----------\n",
        "    image : 입력으로 받는 이미지는 RGB 채널을 각각 가지는 (height, width, channels) 3차원 numpy 배열\n",
        "    percentile : 채널 값의 보정값으로 사용하고자 하는 값을 지정하기 위한 비율, 기본값은 100으로 최대값을 사용\n",
        "    \"\"\"\n",
        "    white_patch_image = img_as_ubyte((\n",
        "                                      image * 1.0          # 이미지 배열을 부동 소수점 형식으로 변환하여 나눗셈 연산이 제대로 수행되도록 함\n",
        "        \t\t\t\t\t\t\t                / np.percentile(    # 지정된 백분위 수 계산\n",
        "                                      \t  image, \t            # 입력 이미지\n",
        "                                     \t    percentile,           # 입력 퍼센티지\n",
        "                                     \t    axis=(0, 1)           # 높이, 너비 축을 따라 계산\n",
        "                                          )                # 이미지가 반환된 보정값을 사용해 정규화 됨\n",
        "                                      ).clip(0, 1)         # 0,1 사이의 범위로 맞춰줌\n",
        "                                     )\n",
        "    return white_patch_image\n",
        "\n",
        "# 이미지 전처리 함수\n",
        "def img_preprocess(image_path):\n",
        "    # 이미지를 불러온 후 화이트 밸런싱 적용\n",
        "    input_image = io.imread(image_path)\n",
        "    white_balanced_image = white_patch(input_image)\n",
        "\n",
        "    pil_image = Image.fromarray(white_balanced_image)\n",
        "\n",
        "    # 메모리 버퍼에 저장\n",
        "    buffered = io_module.BytesIO()\n",
        "    pil_image.save(buffered, format=\"PNG\")\n",
        "\n",
        "    # base64로 인코딩\n",
        "    return base64.b64encode(buffered.getvalue()).decode('utf-8')\n",
        "\n",
        "# API 요청 및 응답 처리 함수\n",
        "def process_image_and_initial_question(image_path, api_key):\n",
        "    \"\"\"\n",
        "    Parameters\n",
        "    ----------\n",
        "    image_path : 이미지 파일의 경로\n",
        "    api_key : OpenAI API 키\n",
        "    \"\"\"\n",
        "    # 고정된 질문\n",
        "    initial_question = \"아기 기저귀 사진의 똥 부분만 보고 건강 상태를 설명해줘. 이상이 있다면 가능한 원인과 추가로 확인해야 할 상황에 대해 알려줘.\"\n",
        "\n",
        "    # 이미지 전처리 및 base64 인코딩\n",
        "    base64_image = img_preprocess(image_path)\n",
        "\n",
        "    # 대화 기록을 저장할 리스트\n",
        "    conversation_history = [\n",
        "        {\n",
        "            \"role\": \"user\",\n",
        "            \"content\": [\n",
        "                {\n",
        "                    \"type\": \"text\",\n",
        "                    \"text\": initial_question\n",
        "                },\n",
        "                {\n",
        "                    \"type\": \"image_url\",\n",
        "                    \"image_url\": {\n",
        "                        \"url\": f\"data:image/jpeg;base64,{base64_image}\",\n",
        "                        \"detail\": \"auto\"\n",
        "                    }\n",
        "                }\n",
        "            ]\n",
        "        }\n",
        "    ]\n",
        "\n",
        "    # 헤더 생성\n",
        "    headers = {\n",
        "        \"Content-Type\": \"application/json\",\n",
        "        \"Authorization\": f\"Bearer {api_key}\"\n",
        "    }\n",
        "\n",
        "    # 첫 질문 보내기\n",
        "    ask_question(conversation_history, headers)\n",
        "\n",
        "    return conversation_history\n",
        "\n",
        "# API 요청을 보내는 함수\n",
        "def ask_question(conversation_history, headers, question=None):\n",
        "    \"\"\"\n",
        "    Parameters\n",
        "    ----------\n",
        "    conversation_history : 대화 기록이 저장된 리스트\n",
        "    headers : API 요청 헤더\n",
        "    question : 추가 질문이 있을 경우 (옵션)\n",
        "    \"\"\"\n",
        "    if question:\n",
        "        conversation_history.append({\n",
        "            \"role\": \"user\",\n",
        "            \"content\": [\n",
        "                {\n",
        "                    \"type\": \"text\",\n",
        "                    \"text\": question\n",
        "                }\n",
        "            ]\n",
        "        })\n",
        "\n",
        "    # 요청할 payload 생성\n",
        "    payload = {\n",
        "        \"model\": \"gpt-4o\",\n",
        "        \"messages\": conversation_history,\n",
        "        \"max_tokens\": 300\n",
        "    }\n",
        "\n",
        "    # GPT-4 API로 요청 보내기\n",
        "    response = requests.post(\"https://api.openai.com/v1/chat/completions\", headers=headers, json=payload)\n",
        "\n",
        "    # 응답 처리\n",
        "    if response.status_code == 200:\n",
        "        result = response.json()\n",
        "        # 응답 내용 대화 기록에 추가\n",
        "        conversation_history.append({\n",
        "            \"role\": \"assistant\",\n",
        "            \"content\": result['choices'][0]['message']['content']\n",
        "        })\n",
        "        print(result['choices'][0]['message']['content'])\n",
        "    else:\n",
        "        print(f\"요청이 실패했습니다. 상태 코드: {response.status_code}, 오류 메시지: {response.text}\")\n",
        "\n",
        "# 대화 흐름 제어 함수\n",
        "def conversation_flow(image_path, api_key):\n",
        "    \"\"\"\n",
        "    Parameters\n",
        "    ----------\n",
        "    image_path : 이미지 파일의 경로\n",
        "    api_key : OpenAI API 키\n",
        "    \"\"\"\n",
        "    # 고정된 질문에 대해 첫 질문 보내기\n",
        "    conversation_history = process_image_and_initial_question(image_path, api_key)\n",
        "\n",
        "    # 추가 질문을 처리하는 루프\n",
        "    while True:\n",
        "        additional_question = input(\"추가적인 질문을 입력하세요 (종료하려면 'exit' 입력): \")\n",
        "        if additional_question.lower() == 'exit':\n",
        "            print(\"대화를 종료합니다.\")\n",
        "            break\n",
        "        ask_question(conversation_history, headers, additional_question)"
      ]
    },
    {
      "cell_type": "code",
      "execution_count": 7,
      "metadata": {
        "colab": {
          "base_uri": "https://localhost:8080/"
        },
        "id": "uJROf4ayCEMM",
        "outputId": "9c7705e1-d0b0-4c8b-c18d-1903c5d7cbe8"
      },
      "outputs": [
        {
          "name": "stdout",
          "output_type": "stream",
          "text": [
            "사진을 기반으로 아기의 변 상태를 분석해 보겠습니다.\n",
            "\n",
            "1. **색상**:\n",
            "   - 노란색 변: 보통 모유 수유 중인 아기에게서 흔히 볼 수 있는 색상입니다.\n",
            "   - 신생아 및 모유 수유 중인 아기의 변이 노란색, 겨자 색상, 또는 밝은 녹색을 띠는 것은 일반적입니다.\n",
            "\n",
            "2. **질감**:\n",
            "   - 사진의 변은 묽고 약간 점도가 있는 것처럼 보입니다.\n",
            "   - 모유 수유하는 아기의 변은 일반적으로 묽거나 약간 걸쭉한 상태를 가질 수 있습니다.\n",
            "\n",
            "### 이상의 징후와 원인:\n",
            "\n",
            "1. **수분 변**: 묽은 변이나 물 같은 변이 반복적으로 나타나면 설사일 수 있습니다. 설사는 탈수를 유발할 수 있기 때문에 주의를 기울여야 합니다.\n",
            "   - 설사의 가능한 원인: \n",
            "     - 세균이나 바이러스 감염 (예: 로타바이러스)\n",
            "     - 알레르기나 음식 불내증\n",
            "     - 항생제 등의 약물 부작용\n",
            "\n",
            "2. **변의 색 변동**: 변이 녹색을 띤다면 너무 많은 포뮬러를 먹였거나(포뮬러 수유 아기의 경우) 음식 소화 문제가 있을 수 있습니다\n",
            "추가적인 질문을 입력하세요 (종료하려면 'exit' 입력): 포뮬러가 뭐야?\n",
            "포뮬러(Formula)는 영어로 '유아용 분유'를 의미합니다. 이는 모유 수유가 어려운 경우나 추가적인 영양 공급이 필요할 때 아기에게 제공되는 우유 대용 제품입니다. 분유는 아기에게 필요한 필수 영양소를 제공하도록 제조됩니다. 아기의 연령, 성장 단계 및 특정 요구 사항에 맞춰 다양한 종류의 분유가 있으며, 이는 대부분 우유나 콩 단백질을 기반으로 합니다.\n",
            "추가적인 질문을 입력하세요 (종료하려면 'exit' 입력): exit\n",
            "대화를 종료합니다.\n"
          ]
        }
      ],
      "source": [
        "normal_6_img_url = '/content/drive/MyDrive/images_0601/normal/normal_6.JPG'\n",
        "conversation_flow(normal_6_img_url, api_key)"
      ]
    },
    {
      "cell_type": "code",
      "execution_count": 8,
      "metadata": {
        "colab": {
          "base_uri": "https://localhost:8080/"
        },
        "id": "_9vVF784CI7M",
        "outputId": "60473f14-f834-40f4-f3f1-de74bb5bca8c"
      },
      "outputs": [
        {
          "name": "stdout",
          "output_type": "stream",
          "text": [
            "사진 속 아기 기저귀의 대변은 황금색이며 점액질이 포함된 묽은 상태로 보입니다. 이런 식의 대변은 모유 수유를 하는 아기에게 흔히 나타나는 정상적인 모습일 수 있습니다. 그러나, 몇 가지 상황에서 우려할 필요가 있을 수 있습니다.\n",
            "\n",
            "1. **정상적인 이유:**\n",
            "   - 모유를 먹는 아기: 모유 수유 시 아기의 대변은 보통 황금색이나 초록색을 띠며 묽을 수 있습니다.\n",
            "   - 소화되지 않은 음식: 이유식을 시작한 아기라면 새로운 음식이 소화되지 않아 이런 대변이 나올 수 있습니다.\n",
            "\n",
            "2. **우려할 수 있는 이유:**\n",
            "   - **감염:** 점액질이 많고 변 상태가 많이 묽다면 장염 등의 바이러스나 세균 감염 가능성을 고려할 수 있습니다.\n",
            "   - **알레르기 반응:** 우유 단백질 또는 특정 음식에 대한 알레르기 반응으로 이러한 대변이 나올 수 있습니다.\n",
            "   - **소화 문제:** 지속적인 점액질, 피 또는 아주 악취가 강한 대변은 소화 문제가 있을 수 있습니다.\n",
            "\n",
            "3. **추가로 확인해야 할 상황:**\n",
            "   - 아기가 무기력하거나 탈수 증상을 보이는지 (잦은 소변, 입과\n",
            "추가적인 질문을 입력하세요 (종료하려면 'exit' 입력): 아기가 며칠 째 이런 똥을 싸고 있어\n",
            "아기가 며칠째 계속해서 황금색의 묽은 대변을 보고 있다면 몇 가지 중요한 조치를 확인하고 검토해야 합니다. \n",
            "\n",
            "1. **증상 관찰:**\n",
            "   - **탈수 증상:** 아기가 탈수 증상을 보이는지 확인하십시오. 입 주위가 마르거나 눈물이 나지 않거나 기저귀 교환 빈도가 줄어들 수 있습니다.\n",
            "   - **체중 감소:** 아기의 체중이 줄거나 체중이 증가하지 않는 경우.\n",
            "   - **기타 증상:** 발열, 무기력, 과도한 울음 등 다른 이상 증상이 있는지 확인하세요.\n",
            "\n",
            "2. **먹는 것:** \n",
            "   - 새로운 음식: 아기가 새로운 음식을 먹기 시작했는지 확인하십시오. 새로운 음식이 원인일 수도 있습니다.\n",
            "   - 수유 변화: 모유나 분유 교체가 있었는지, 또는 수유량의 극적인 변화가 있었는지 확인하세요.\n",
            "\n",
            "3. **환경 변화:** \n",
            "   - 최근 여행이나 환경의 변화가 있었는지 확인하십시오.\n",
            "\n",
            "4. **병원 방문 시기:**\n",
            "   - **지속적인 문제:** 며칠 이상 지속되는 경우 소아과 의사를 찾아가세요.\n",
            "   - **심각한 증상:** 피가 보이거나, 아주 악취가 강하거나, 아기가 심하게 아파 보이는 경우 즉시 의료\n",
            "추가적인 질문을 입력하세요 (종료하려면 'exit' 입력): exit\n",
            "대화를 종료합니다.\n"
          ]
        }
      ],
      "source": [
        "diarrhea_4_img_url = '/content/drive/MyDrive/images_0601/diarrhea/diarrhea_4.jpeg'\n",
        "conversation_flow(diarrhea_4_img_url, api_key)"
      ]
    }
  ],
  "metadata": {
    "colab": {
      "provenance": []
    },
    "kernelspec": {
      "display_name": "Python 3",
      "name": "python3"
    },
    "language_info": {
      "name": "python"
    }
  },
  "nbformat": 4,
  "nbformat_minor": 0
}
